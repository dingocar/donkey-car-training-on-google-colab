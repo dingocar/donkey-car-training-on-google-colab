{
  "nbformat": 4,
  "nbformat_minor": 0,
  "metadata": {
    "accelerator": "GPU",
    "colab": {
      "name": "Donkey Car Training using Google Colab",
      "provenance": [],
      "collapsed_sections": [],
      "toc_visible": true,
      "include_colab_link": true
    },
    "kernelspec": {
      "display_name": "Python 3",
      "language": "python",
      "name": "python3"
    },
    "language_info": {
      "codemirror_mode": {
        "name": "ipython",
        "version": 3
      },
      "file_extension": ".py",
      "mimetype": "text/x-python",
      "name": "python",
      "nbconvert_exporter": "python",
      "pygments_lexer": "ipython3",
      "version": "3.7.3"
    }
  },
  "cells": [
    {
      "cell_type": "markdown",
      "metadata": {
        "id": "view-in-github",
        "colab_type": "text"
      },
      "source": [
        "<a href=\"https://colab.research.google.com/github/robocarstore/donkey-car-training-on-google-colab/blob/master/Donkey_Car_Training_using_Google_Colab.ipynb\" target=\"_parent\"><img src=\"https://colab.research.google.com/assets/colab-badge.svg\" alt=\"Open In Colab\"/></a>"
      ]
    },
    {
      "cell_type": "markdown",
      "metadata": {
        "colab_type": "text",
        "id": "BlmQIFSLZDdc"
      },
      "source": [
        "# Donkey Car Training using Google Colab\n",
        "\n",
        "Train your donkey car model using accelerated GPU for FREE on Google Colab"
      ]
    },
    {
      "cell_type": "markdown",
      "metadata": {
        "colab_type": "text",
        "id": "arsH-DhLcihq"
      },
      "source": [
        "## Check GPU allocation\n",
        "If \"Found GPU at: / device: GPU: 0\" is displayed, the GPU is ready to use."
      ]
    },
    {
      "cell_type": "code",
      "metadata": {
        "id": "I-JSYI2sDXc8",
        "colab_type": "code",
        "colab": {
          "base_uri": "https://localhost:8080/",
          "height": 272
        },
        "outputId": "fa5c49fc-da14-473c-eee0-a9b83cf31394"
      },
      "source": [
        "!pip uninstall tensorflow"
      ],
      "execution_count": 1,
      "outputs": [
        {
          "output_type": "stream",
          "text": [
            "Uninstalling tensorflow-1.15.0rc3:\n",
            "  Would remove:\n",
            "    /usr/local/bin/estimator_ckpt_converter\n",
            "    /usr/local/bin/freeze_graph\n",
            "    /usr/local/bin/saved_model_cli\n",
            "    /usr/local/bin/tensorboard\n",
            "    /usr/local/bin/tf_upgrade_v2\n",
            "    /usr/local/bin/tflite_convert\n",
            "    /usr/local/bin/toco\n",
            "    /usr/local/bin/toco_from_protos\n",
            "    /usr/local/lib/python3.6/dist-packages/tensorflow-1.15.0rc3.dist-info/*\n",
            "    /usr/local/lib/python3.6/dist-packages/tensorflow/*\n",
            "    /usr/local/lib/python3.6/dist-packages/tensorflow_core/*\n",
            "Proceed (y/n)? y\n",
            "  Successfully uninstalled tensorflow-1.15.0rc3\n"
          ],
          "name": "stdout"
        }
      ]
    },
    {
      "cell_type": "code",
      "metadata": {
        "id": "kx5VKh381BPj",
        "colab_type": "code",
        "colab": {
          "base_uri": "https://localhost:8080/",
          "height": 615
        },
        "outputId": "d5ecde95-6850-45a6-c121-7cc99ff63980"
      },
      "source": [
        "!pip install tensorflow-gpu==1.13.1"
      ],
      "execution_count": 2,
      "outputs": [
        {
          "output_type": "stream",
          "text": [
            "Collecting tensorflow-gpu==1.13.1\n",
            "\u001b[?25l  Downloading https://files.pythonhosted.org/packages/7b/b1/0ad4ae02e17ddd62109cd54c291e311c4b5fd09b4d0678d3d6ce4159b0f0/tensorflow_gpu-1.13.1-cp36-cp36m-manylinux1_x86_64.whl (345.2MB)\n",
            "\u001b[K     |████████████████████████████████| 345.2MB 96kB/s \n",
            "\u001b[?25hRequirement already satisfied: protobuf>=3.6.1 in /usr/local/lib/python3.6/dist-packages (from tensorflow-gpu==1.13.1) (3.7.1)\n",
            "Requirement already satisfied: absl-py>=0.1.6 in /usr/local/lib/python3.6/dist-packages (from tensorflow-gpu==1.13.1) (0.8.0)\n",
            "Requirement already satisfied: keras-applications>=1.0.6 in /usr/local/lib/python3.6/dist-packages (from tensorflow-gpu==1.13.1) (1.0.8)\n",
            "Requirement already satisfied: termcolor>=1.1.0 in /usr/local/lib/python3.6/dist-packages (from tensorflow-gpu==1.13.1) (1.1.0)\n",
            "Requirement already satisfied: keras-preprocessing>=1.0.5 in /usr/local/lib/python3.6/dist-packages (from tensorflow-gpu==1.13.1) (1.1.0)\n",
            "Requirement already satisfied: numpy>=1.13.3 in /usr/local/lib/python3.6/dist-packages (from tensorflow-gpu==1.13.1) (1.16.5)\n",
            "Requirement already satisfied: gast>=0.2.0 in /usr/local/lib/python3.6/dist-packages (from tensorflow-gpu==1.13.1) (0.2.2)\n",
            "Requirement already satisfied: astor>=0.6.0 in /usr/local/lib/python3.6/dist-packages (from tensorflow-gpu==1.13.1) (0.8.0)\n",
            "Requirement already satisfied: six>=1.10.0 in /usr/local/lib/python3.6/dist-packages (from tensorflow-gpu==1.13.1) (1.12.0)\n",
            "Collecting tensorflow-estimator<1.14.0rc0,>=1.13.0 (from tensorflow-gpu==1.13.1)\n",
            "\u001b[?25l  Downloading https://files.pythonhosted.org/packages/bb/48/13f49fc3fa0fdf916aa1419013bb8f2ad09674c275b4046d5ee669a46873/tensorflow_estimator-1.13.0-py2.py3-none-any.whl (367kB)\n",
            "\u001b[K     |████████████████████████████████| 368kB 38.8MB/s \n",
            "\u001b[?25hRequirement already satisfied: grpcio>=1.8.6 in /usr/local/lib/python3.6/dist-packages (from tensorflow-gpu==1.13.1) (1.15.0)\n",
            "Requirement already satisfied: wheel>=0.26 in /usr/local/lib/python3.6/dist-packages (from tensorflow-gpu==1.13.1) (0.33.6)\n",
            "Collecting tensorboard<1.14.0,>=1.13.0 (from tensorflow-gpu==1.13.1)\n",
            "\u001b[?25l  Downloading https://files.pythonhosted.org/packages/0f/39/bdd75b08a6fba41f098b6cb091b9e8c7a80e1b4d679a581a0ccd17b10373/tensorboard-1.13.1-py3-none-any.whl (3.2MB)\n",
            "\u001b[K     |████████████████████████████████| 3.2MB 29.5MB/s \n",
            "\u001b[?25hRequirement already satisfied: setuptools in /usr/local/lib/python3.6/dist-packages (from protobuf>=3.6.1->tensorflow-gpu==1.13.1) (41.2.0)\n",
            "Requirement already satisfied: h5py in /usr/local/lib/python3.6/dist-packages (from keras-applications>=1.0.6->tensorflow-gpu==1.13.1) (2.8.0)\n",
            "Collecting mock>=2.0.0 (from tensorflow-estimator<1.14.0rc0,>=1.13.0->tensorflow-gpu==1.13.1)\n",
            "  Downloading https://files.pythonhosted.org/packages/05/d2/f94e68be6b17f46d2c353564da56e6fb89ef09faeeff3313a046cb810ca9/mock-3.0.5-py2.py3-none-any.whl\n",
            "Requirement already satisfied: werkzeug>=0.11.15 in /usr/local/lib/python3.6/dist-packages (from tensorboard<1.14.0,>=1.13.0->tensorflow-gpu==1.13.1) (0.16.0)\n",
            "Requirement already satisfied: markdown>=2.6.8 in /usr/local/lib/python3.6/dist-packages (from tensorboard<1.14.0,>=1.13.0->tensorflow-gpu==1.13.1) (3.1.1)\n",
            "Installing collected packages: mock, tensorflow-estimator, tensorboard, tensorflow-gpu\n",
            "  Found existing installation: tensorflow-estimator 1.15.1\n",
            "    Uninstalling tensorflow-estimator-1.15.1:\n",
            "      Successfully uninstalled tensorflow-estimator-1.15.1\n",
            "  Found existing installation: tensorboard 1.15.0\n",
            "    Uninstalling tensorboard-1.15.0:\n",
            "      Successfully uninstalled tensorboard-1.15.0\n",
            "Successfully installed mock-3.0.5 tensorboard-1.13.1 tensorflow-estimator-1.13.0 tensorflow-gpu-1.13.1\n"
          ],
          "name": "stdout"
        }
      ]
    },
    {
      "cell_type": "code",
      "metadata": {
        "colab_type": "code",
        "id": "uQgEhuoTcg0N",
        "outputId": "9131227b-19f1-4a11-d10b-e3c0a6ff034c",
        "colab": {
          "base_uri": "https://localhost:8080/",
          "height": 34
        }
      },
      "source": [
        "import tensorflow as tf\n",
        "device_name = tf.test.gpu_device_name()\n",
        "if device_name != '/device:GPU:0':\n",
        "  raise SystemError('GPU device not found')\n",
        "print('Found GPU at: {}'.format(device_name))"
      ],
      "execution_count": 3,
      "outputs": [
        {
          "output_type": "stream",
          "text": [
            "Found GPU at: /device:GPU:0\n"
          ],
          "name": "stdout"
        }
      ]
    },
    {
      "cell_type": "markdown",
      "metadata": {
        "colab_type": "text",
        "id": "Ba2oPDIrsDFg"
      },
      "source": [
        "## Git Clone the donkey repository"
      ]
    },
    {
      "cell_type": "code",
      "metadata": {
        "colab_type": "code",
        "id": "oOxd9PFUyNxI",
        "outputId": "1e5d2c95-fb2d-459c-83f7-46c82a634f1a",
        "colab": {
          "base_uri": "https://localhost:8080/",
          "height": 187
        }
      },
      "source": [
        "!git clone https://github.com/autorope/donkeycar.git \n",
        "%cd /content/donkeycar\n",
        "\n",
        "!git checkout master"
      ],
      "execution_count": 4,
      "outputs": [
        {
          "output_type": "stream",
          "text": [
            "Cloning into 'donkeycar'...\n",
            "remote: Enumerating objects: 11, done.\u001b[K\n",
            "remote: Counting objects:   9% (1/11)\u001b[K\rremote: Counting objects:  18% (2/11)\u001b[K\rremote: Counting objects:  27% (3/11)\u001b[K\rremote: Counting objects:  36% (4/11)\u001b[K\rremote: Counting objects:  45% (5/11)\u001b[K\rremote: Counting objects:  54% (6/11)\u001b[K\rremote: Counting objects:  63% (7/11)\u001b[K\rremote: Counting objects:  72% (8/11)\u001b[K\rremote: Counting objects:  81% (9/11)\u001b[K\rremote: Counting objects:  90% (10/11)\u001b[K\rremote: Counting objects: 100% (11/11)\u001b[K\rremote: Counting objects: 100% (11/11), done.\u001b[K\n",
            "remote: Compressing objects: 100% (11/11), done.\u001b[K\n",
            "remote: Total 10755 (delta 2), reused 1 (delta 0), pack-reused 10744\u001b[K\n",
            "Receiving objects: 100% (10755/10755), 58.77 MiB | 42.80 MiB/s, done.\n",
            "Resolving deltas: 100% (6659/6659), done.\n",
            "/content/donkeycar\n",
            "Branch 'master' set up to track remote branch 'master' from 'origin'.\n",
            "Switched to a new branch 'master'\n"
          ],
          "name": "stdout"
        }
      ]
    },
    {
      "cell_type": "markdown",
      "metadata": {
        "colab_type": "text",
        "id": "9TkkcF-gsAnx"
      },
      "source": [
        "## Install donkey car"
      ]
    },
    {
      "cell_type": "code",
      "metadata": {
        "colab_type": "code",
        "id": "jz_PZgrByPDh",
        "outputId": "d7a709df-5818-4323-f86e-4215f5f9e836",
        "colab": {
          "base_uri": "https://localhost:8080/",
          "height": 666
        }
      },
      "source": [
        "!pip3 install -e .[pc]"
      ],
      "execution_count": 5,
      "outputs": [
        {
          "output_type": "stream",
          "text": [
            "Obtaining file:///content/donkeycar\n",
            "Requirement already satisfied: numpy in /usr/local/lib/python3.6/dist-packages (from donkeycar==3.1.0) (1.16.5)\n",
            "Requirement already satisfied: pillow in /usr/local/lib/python3.6/dist-packages (from donkeycar==3.1.0) (4.3.0)\n",
            "Requirement already satisfied: docopt in /usr/local/lib/python3.6/dist-packages (from donkeycar==3.1.0) (0.6.2)\n",
            "Requirement already satisfied: tornado in /usr/local/lib/python3.6/dist-packages (from donkeycar==3.1.0) (4.5.3)\n",
            "Requirement already satisfied: requests in /usr/local/lib/python3.6/dist-packages (from donkeycar==3.1.0) (2.21.0)\n",
            "Requirement already satisfied: h5py in /usr/local/lib/python3.6/dist-packages (from donkeycar==3.1.0) (2.8.0)\n",
            "Requirement already satisfied: moviepy in /usr/local/lib/python3.6/dist-packages (from donkeycar==3.1.0) (0.2.3.5)\n",
            "Requirement already satisfied: pandas in /usr/local/lib/python3.6/dist-packages (from donkeycar==3.1.0) (0.24.2)\n",
            "Requirement already satisfied: PrettyTable in /usr/local/lib/python3.6/dist-packages (from donkeycar==3.1.0) (0.7.2)\n",
            "Collecting paho-mqtt (from donkeycar==3.1.0)\n",
            "\u001b[?25l  Downloading https://files.pythonhosted.org/packages/25/63/db25e62979c2a716a74950c9ed658dce431b5cb01fde29eb6cba9489a904/paho-mqtt-1.4.0.tar.gz (88kB)\n",
            "\u001b[K     |████████████████████████████████| 92kB 3.6MB/s \n",
            "\u001b[?25hRequirement already satisfied: matplotlib in /usr/local/lib/python3.6/dist-packages (from donkeycar==3.1.0) (3.0.3)\n",
            "Requirement already satisfied: olefile in /usr/local/lib/python3.6/dist-packages (from pillow->donkeycar==3.1.0) (0.46)\n",
            "Requirement already satisfied: idna<2.9,>=2.5 in /usr/local/lib/python3.6/dist-packages (from requests->donkeycar==3.1.0) (2.8)\n",
            "Requirement already satisfied: certifi>=2017.4.17 in /usr/local/lib/python3.6/dist-packages (from requests->donkeycar==3.1.0) (2019.9.11)\n",
            "Requirement already satisfied: urllib3<1.25,>=1.21.1 in /usr/local/lib/python3.6/dist-packages (from requests->donkeycar==3.1.0) (1.24.3)\n",
            "Requirement already satisfied: chardet<3.1.0,>=3.0.2 in /usr/local/lib/python3.6/dist-packages (from requests->donkeycar==3.1.0) (3.0.4)\n",
            "Requirement already satisfied: six in /usr/local/lib/python3.6/dist-packages (from h5py->donkeycar==3.1.0) (1.12.0)\n",
            "Requirement already satisfied: decorator<5.0,>=4.0.2 in /usr/local/lib/python3.6/dist-packages (from moviepy->donkeycar==3.1.0) (4.4.0)\n",
            "Requirement already satisfied: imageio<3.0,>=2.1.2 in /usr/local/lib/python3.6/dist-packages (from moviepy->donkeycar==3.1.0) (2.4.1)\n",
            "Requirement already satisfied: tqdm<5.0,>=4.11.2 in /usr/local/lib/python3.6/dist-packages (from moviepy->donkeycar==3.1.0) (4.28.1)\n",
            "Requirement already satisfied: pytz>=2011k in /usr/local/lib/python3.6/dist-packages (from pandas->donkeycar==3.1.0) (2018.9)\n",
            "Requirement already satisfied: python-dateutil>=2.5.0 in /usr/local/lib/python3.6/dist-packages (from pandas->donkeycar==3.1.0) (2.5.3)\n",
            "Requirement already satisfied: kiwisolver>=1.0.1 in /usr/local/lib/python3.6/dist-packages (from matplotlib->donkeycar==3.1.0) (1.1.0)\n",
            "Requirement already satisfied: pyparsing!=2.0.4,!=2.1.2,!=2.1.6,>=2.0.1 in /usr/local/lib/python3.6/dist-packages (from matplotlib->donkeycar==3.1.0) (2.4.2)\n",
            "Requirement already satisfied: cycler>=0.10 in /usr/local/lib/python3.6/dist-packages (from matplotlib->donkeycar==3.1.0) (0.10.0)\n",
            "Requirement already satisfied: setuptools in /usr/local/lib/python3.6/dist-packages (from kiwisolver>=1.0.1->matplotlib->donkeycar==3.1.0) (41.2.0)\n",
            "Building wheels for collected packages: paho-mqtt\n",
            "  Building wheel for paho-mqtt (setup.py) ... \u001b[?25l\u001b[?25hdone\n",
            "  Created wheel for paho-mqtt: filename=paho_mqtt-1.4.0-cp36-none-any.whl size=48331 sha256=e1688ff670dfdf9240e5dd61b007c3b3acd3eacf58a975d69a49d349d52f7dab\n",
            "  Stored in directory: /root/.cache/pip/wheels/82/e5/de/d90d0f397648a1b58ffeea1b5742ac8c77f71fd43b550fa5a5\n",
            "Successfully built paho-mqtt\n",
            "Installing collected packages: paho-mqtt, donkeycar\n",
            "  Running setup.py develop for donkeycar\n",
            "Successfully installed donkeycar paho-mqtt-1.4.0\n"
          ],
          "name": "stdout"
        }
      ]
    },
    {
      "cell_type": "markdown",
      "metadata": {
        "colab_type": "text",
        "id": "syCctLq2r4Wk"
      },
      "source": [
        "## Create Project"
      ]
    },
    {
      "cell_type": "code",
      "metadata": {
        "colab_type": "code",
        "id": "1xjJBSITyXy2",
        "outputId": "5b11a7f6-c28f-4ddb-a52d-16aab786ed88",
        "colab": {
          "base_uri": "https://localhost:8080/",
          "height": 221
        }
      },
      "source": [
        "!donkey createcar --path /content/mycar"
      ],
      "execution_count": 6,
      "outputs": [
        {
          "output_type": "stream",
          "text": [
            "using donkey v3.1.0 ...\n",
            "Creating car folder: /content/mycar\n",
            "making dir  /content/mycar\n",
            "Creating data & model folders.\n",
            "making dir  /content/mycar/models\n",
            "making dir  /content/mycar/data\n",
            "making dir  /content/mycar/logs\n",
            "Copying car application template: complete\n",
            "Copying car config defaults. Adjust these before starting your car.\n",
            "Copying train script. Adjust these before starting your car.\n",
            "Copying my car config overrides\n",
            "Donkey setup complete.\n"
          ],
          "name": "stdout"
        }
      ]
    },
    {
      "cell_type": "markdown",
      "metadata": {
        "id": "SCf6uTHnO4Lh",
        "colab_type": "text"
      },
      "source": [
        "## Prepare Data\n",
        "### Copy the following code and run on pi\n",
        "\n",
        "\n",
        "```bash\n",
        "cd ~/mycar/data\n",
        "tar -czf tub_xx_yyyy_mm_dd.tar.gz tub_xx_yyyy_mm_dd\n",
        "\n",
        "```\n",
        "\n",
        "This will create a tub_xx_yyyy_mm_dd.tar.gz file under ~/mycar/data"
      ]
    },
    {
      "cell_type": "markdown",
      "metadata": {
        "colab_type": "text",
        "id": "dnUy1Z1zro77"
      },
      "source": [
        "## Upload Data\n",
        "\n",
        "\n",
        "### Copy the tub to your local pc\n",
        "\n",
        "Run this on your local pc if you are using linux/mac\n",
        "```\n",
        "sftp pi@raspberry.local\n",
        "cd ~/mycar/data\n",
        "get tub_xx_yyyy_mm_dd.tar.gz\n",
        "```\n",
        "\n",
        "If you are on a windows, download sftp utility like [filezilla](https://filezilla-project.org/) or [putty](https://www.chiark.greenend.org.uk/~sgtatham/putty/latest.html)"
      ]
    },
    {
      "cell_type": "markdown",
      "metadata": {
        "id": "wlwZuLKA56nt",
        "colab_type": "text"
      },
      "source": [
        "### Define your tub name here"
      ]
    },
    {
      "cell_type": "code",
      "metadata": {
        "id": "0ShFSsaewLCT",
        "colab_type": "code",
        "colab": {}
      },
      "source": [
        "tub_name=\"tub_51_19-10-11\""
      ],
      "execution_count": 0,
      "outputs": []
    },
    {
      "cell_type": "markdown",
      "metadata": {
        "id": "W47gmXA0O4Lo",
        "colab_type": "text"
      },
      "source": [
        "### Upload the tub to Google Drive\n",
        "\n",
        "First upload the tub_x_yyyy_mm_dd.tar.gz to Google Drive. We will then mount Google Drive from colab and copy the data from Drive directly. When you run the cell below, you will need to click the link and generate an authorization code to for colab to access your drive."
      ]
    },
    {
      "cell_type": "code",
      "metadata": {
        "id": "Bgp_wtENw_4n",
        "colab_type": "code",
        "outputId": "1d930dba-74c6-4e35-a6c4-fb49e3778adf",
        "colab": {
          "base_uri": "https://localhost:8080/",
          "height": 122
        }
      },
      "source": [
        "from google.colab import drive\n",
        "drive.mount('/content/drive')"
      ],
      "execution_count": 8,
      "outputs": [
        {
          "output_type": "stream",
          "text": [
            "Go to this URL in a browser: https://accounts.google.com/o/oauth2/auth?client_id=947318989803-6bn6qk8qdgf4n4g3pfee6491hc0brc4i.apps.googleusercontent.com&redirect_uri=urn%3Aietf%3Awg%3Aoauth%3A2.0%3Aoob&scope=email%20https%3A%2F%2Fwww.googleapis.com%2Fauth%2Fdocs.test%20https%3A%2F%2Fwww.googleapis.com%2Fauth%2Fdrive%20https%3A%2F%2Fwww.googleapis.com%2Fauth%2Fdrive.photos.readonly%20https%3A%2F%2Fwww.googleapis.com%2Fauth%2Fpeopleapi.readonly&response_type=code\n",
            "\n",
            "Enter your authorization code:\n",
            "··········\n",
            "Mounted at /content/drive\n"
          ],
          "name": "stdout"
        }
      ]
    },
    {
      "cell_type": "markdown",
      "metadata": {
        "id": "IfSDpXj9x16v",
        "colab_type": "text"
      },
      "source": [
        "Suppose you upload the tub_xx_yyyy_mm_dd.tar.gz to Google Drive/mycar/tub_xx_yyyy_mm_dd.tar.gz, this is how you copy it from Google Drive to colab"
      ]
    },
    {
      "cell_type": "code",
      "metadata": {
        "id": "BIzWTrV-xwkJ",
        "colab_type": "code",
        "outputId": "0af06e2c-122f-4421-b140-b38795160354",
        "colab": {
          "base_uri": "https://localhost:8080/",
          "height": 34
        }
      },
      "source": [
        "%cd /content/mycar/data\n",
        "!cp /content/drive/My\\ Drive/mycar/{tub_name}.tar.gz ."
      ],
      "execution_count": 9,
      "outputs": [
        {
          "output_type": "stream",
          "text": [
            "/content/mycar/data\n"
          ],
          "name": "stdout"
        }
      ]
    },
    {
      "cell_type": "markdown",
      "metadata": {
        "id": "QtwcEli6yFrw",
        "colab_type": "text"
      },
      "source": [
        "And untar it to the right place"
      ]
    },
    {
      "cell_type": "code",
      "metadata": {
        "id": "urhFWBkUyGf0",
        "colab_type": "code",
        "colab": {}
      },
      "source": [
        "!tar -xzf {tub_name}.tar.gz"
      ],
      "execution_count": 0,
      "outputs": []
    },
    {
      "cell_type": "markdown",
      "metadata": {
        "id": "eyPsgV5KyFkg",
        "colab_type": "text"
      },
      "source": [
        "Check whether the data is there"
      ]
    },
    {
      "cell_type": "code",
      "metadata": {
        "id": "KsItvBTkzWcH",
        "colab_type": "code",
        "colab": {}
      },
      "source": [
        "!ls {tub_name}"
      ],
      "execution_count": 0,
      "outputs": []
    },
    {
      "cell_type": "markdown",
      "metadata": {
        "colab_type": "text",
        "id": "T3Ya8qEUAfOv"
      },
      "source": [
        "## Train your model"
      ]
    },
    {
      "cell_type": "code",
      "metadata": {
        "colab_type": "code",
        "id": "edH3xO_AVWXu",
        "outputId": "ff96dcd4-021c-4db0-fcbc-d96b8aa6726f",
        "colab": {
          "base_uri": "https://localhost:8080/",
          "height": 1000
        }
      },
      "source": [
        "!python /content/mycar/manage.py train --type linear --model /content/mycar/models/mypilot.h5"
      ],
      "execution_count": 11,
      "outputs": [
        {
          "output_type": "stream",
          "text": [
            "using donkey v3.1.0 ...\n",
            "loading config file: /content/mycar/config.py\n",
            "loading personal config over-rides\n",
            "\n",
            "config loaded\n",
            "2019-10-11 10:12:45.858466: I tensorflow/core/platform/cpu_feature_guard.cc:141] Your CPU supports instructions that this TensorFlow binary was not compiled to use: AVX2 FMA\n",
            "2019-10-11 10:12:45.907520: I tensorflow/stream_executor/cuda/cuda_gpu_executor.cc:998] successful NUMA node read from SysFS had negative value (-1), but there must be at least one NUMA node, so returning NUMA node zero\n",
            "2019-10-11 10:12:45.908331: I tensorflow/compiler/xla/service/service.cc:150] XLA service 0x26a3340 executing computations on platform CUDA. Devices:\n",
            "2019-10-11 10:12:45.908379: I tensorflow/compiler/xla/service/service.cc:158]   StreamExecutor device (0): Tesla K80, Compute Capability 3.7\n",
            "2019-10-11 10:12:45.910443: I tensorflow/core/platform/profile_utils/cpu_utils.cc:94] CPU Frequency: 2300000000 Hz\n",
            "2019-10-11 10:12:45.910650: I tensorflow/compiler/xla/service/service.cc:150] XLA service 0x26a31e0 executing computations on platform Host. Devices:\n",
            "2019-10-11 10:12:45.910684: I tensorflow/compiler/xla/service/service.cc:158]   StreamExecutor device (0): <undefined>, <undefined>\n",
            "2019-10-11 10:12:45.910842: I tensorflow/core/common_runtime/gpu/gpu_device.cc:1433] Found device 0 with properties: \n",
            "name: Tesla K80 major: 3 minor: 7 memoryClockRate(GHz): 0.8235\n",
            "pciBusID: 0000:00:04.0\n",
            "totalMemory: 11.17GiB freeMemory: 11.05GiB\n",
            "2019-10-11 10:12:45.910876: I tensorflow/core/common_runtime/gpu/gpu_device.cc:1512] Adding visible gpu devices: 0\n",
            "2019-10-11 10:12:45.912099: I tensorflow/core/common_runtime/gpu/gpu_device.cc:984] Device interconnect StreamExecutor with strength 1 edge matrix:\n",
            "2019-10-11 10:12:45.912128: I tensorflow/core/common_runtime/gpu/gpu_device.cc:990]      0 \n",
            "2019-10-11 10:12:45.912140: I tensorflow/core/common_runtime/gpu/gpu_device.cc:1003] 0:   N \n",
            "2019-10-11 10:12:45.912209: I tensorflow/core/common_runtime/gpu/gpu_device.cc:1115] Created TensorFlow device (/job:localhost/replica:0/task:0/device:GPU:0 with 10748 MB memory) -> physical GPU (device: 0, name: Tesla K80, pci bus id: 0000:00:04.0, compute capability: 3.7)\n",
            "\"get_model_by_type\" model Type is: linear\n",
            "WARNING:tensorflow:From /usr/local/lib/python3.6/dist-packages/tensorflow/python/ops/resource_variable_ops.py:435: colocate_with (from tensorflow.python.framework.ops) is deprecated and will be removed in a future version.\n",
            "Instructions for updating:\n",
            "Colocations handled automatically by placer.\n",
            "WARNING:tensorflow:From /usr/local/lib/python3.6/dist-packages/tensorflow/python/keras/layers/core.py:143: calling dropout (from tensorflow.python.ops.nn_ops) with keep_prob is deprecated and will be removed in a future version.\n",
            "Instructions for updating:\n",
            "Please use `rate` instead of `keep_prob`. Rate should be set to `rate = 1 - keep_prob`.\n",
            "WARNING:tensorflow:From /usr/local/lib/python3.6/dist-packages/tensorflow/python/keras/utils/losses_utils.py:170: to_float (from tensorflow.python.ops.math_ops) is deprecated and will be removed in a future version.\n",
            "Instructions for updating:\n",
            "Use tf.cast instead.\n",
            "training with model type <class 'donkeycar.parts.keras.KerasLinear'>\n",
            "__________________________________________________________________________________________________\n",
            "Layer (type)                    Output Shape         Param #     Connected to                     \n",
            "==================================================================================================\n",
            "img_in (InputLayer)             (None, 120, 160, 3)  0                                            \n",
            "__________________________________________________________________________________________________\n",
            "conv2d_1 (Conv2D)               (None, 58, 78, 24)   1824        img_in[0][0]                     \n",
            "__________________________________________________________________________________________________\n",
            "dropout (Dropout)               (None, 58, 78, 24)   0           conv2d_1[0][0]                   \n",
            "__________________________________________________________________________________________________\n",
            "conv2d_2 (Conv2D)               (None, 27, 37, 32)   19232       dropout[0][0]                    \n",
            "__________________________________________________________________________________________________\n",
            "dropout_1 (Dropout)             (None, 27, 37, 32)   0           conv2d_2[0][0]                   \n",
            "__________________________________________________________________________________________________\n",
            "conv2d_3 (Conv2D)               (None, 12, 17, 64)   51264       dropout_1[0][0]                  \n",
            "__________________________________________________________________________________________________\n",
            "dropout_2 (Dropout)             (None, 12, 17, 64)   0           conv2d_3[0][0]                   \n",
            "__________________________________________________________________________________________________\n",
            "conv2d_4 (Conv2D)               (None, 10, 15, 64)   36928       dropout_2[0][0]                  \n",
            "__________________________________________________________________________________________________\n",
            "dropout_3 (Dropout)             (None, 10, 15, 64)   0           conv2d_4[0][0]                   \n",
            "__________________________________________________________________________________________________\n",
            "conv2d_5 (Conv2D)               (None, 8, 13, 64)    36928       dropout_3[0][0]                  \n",
            "__________________________________________________________________________________________________\n",
            "dropout_4 (Dropout)             (None, 8, 13, 64)    0           conv2d_5[0][0]                   \n",
            "__________________________________________________________________________________________________\n",
            "flattened (Flatten)             (None, 6656)         0           dropout_4[0][0]                  \n",
            "__________________________________________________________________________________________________\n",
            "dense (Dense)                   (None, 100)          665700      flattened[0][0]                  \n",
            "__________________________________________________________________________________________________\n",
            "dropout_5 (Dropout)             (None, 100)          0           dense[0][0]                      \n",
            "__________________________________________________________________________________________________\n",
            "dense_1 (Dense)                 (None, 50)           5050        dropout_5[0][0]                  \n",
            "__________________________________________________________________________________________________\n",
            "dropout_6 (Dropout)             (None, 50)           0           dense_1[0][0]                    \n",
            "__________________________________________________________________________________________________\n",
            "n_outputs0 (Dense)              (None, 1)            51          dropout_6[0][0]                  \n",
            "__________________________________________________________________________________________________\n",
            "n_outputs1 (Dense)              (None, 1)            51          dropout_6[0][0]                  \n",
            "==================================================================================================\n",
            "Total params: 817,028\n",
            "Trainable params: 817,028\n",
            "Non-trainable params: 0\n",
            "__________________________________________________________________________________________________\n",
            "None\n",
            "found 0 pickles writing json records and images in tub /content/mycar/data/tub_51_19-10-11\n",
            "/content/mycar/data/tub_51_19-10-11\n",
            "collating 6103 records ...\n",
            "train: 4882, val: 1221\n",
            "total records: 6103\n",
            "steps_per_epoch 38\n",
            "WARNING:tensorflow:From /usr/local/lib/python3.6/dist-packages/tensorflow/python/ops/math_ops.py:3066: to_int32 (from tensorflow.python.ops.math_ops) is deprecated and will be removed in a future version.\n",
            "Instructions for updating:\n",
            "Use tf.cast instead.\n",
            "Epoch 1/100\n",
            "2019-10-11 10:12:50.892096: I tensorflow/stream_executor/dso_loader.cc:152] successfully opened CUDA library libcublas.so.10.0 locally\n",
            "9/9 [==============================] - 2s 170ms/step - loss: 0.1923 - n_outputs0_loss: 0.1639 - n_outputs1_loss: 0.0284\n",
            "\n",
            "Epoch 00001: val_loss improved from inf to 0.19230, saving model to /content/mycar/models/mypilot.h5\n",
            "38/38 [==============================] - 9s 248ms/step - loss: 0.2770 - n_outputs0_loss: 0.1805 - n_outputs1_loss: 0.0966 - val_loss: 0.1923 - val_n_outputs0_loss: 0.1639 - val_n_outputs1_loss: 0.0284\n",
            "Epoch 2/100\n",
            "9/9 [==============================] - 0s 28ms/step - loss: 0.1861 - n_outputs0_loss: 0.1609 - n_outputs1_loss: 0.0252\n",
            "\n",
            "Epoch 00002: val_loss improved from 0.19230 to 0.18611, saving model to /content/mycar/models/mypilot.h5\n",
            "38/38 [==============================] - 4s 93ms/step - loss: 0.2025 - n_outputs0_loss: 0.1676 - n_outputs1_loss: 0.0348 - val_loss: 0.1861 - val_n_outputs0_loss: 0.1609 - val_n_outputs1_loss: 0.0252\n",
            "Epoch 3/100\n",
            "9/9 [==============================] - 0s 30ms/step - loss: 0.1867 - n_outputs0_loss: 0.1620 - n_outputs1_loss: 0.0247\n",
            "\n",
            "Epoch 00003: val_loss did not improve from 0.18611\n",
            "38/38 [==============================] - 4s 92ms/step - loss: 0.1964 - n_outputs0_loss: 0.1632 - n_outputs1_loss: 0.0332 - val_loss: 0.1867 - val_n_outputs0_loss: 0.1620 - val_n_outputs1_loss: 0.0247\n",
            "Epoch 4/100\n",
            "9/9 [==============================] - 0s 29ms/step - loss: 0.1883 - n_outputs0_loss: 0.1633 - n_outputs1_loss: 0.0250\n",
            "\n",
            "Epoch 00004: val_loss did not improve from 0.18611\n",
            "38/38 [==============================] - 3s 92ms/step - loss: 0.1951 - n_outputs0_loss: 0.1623 - n_outputs1_loss: 0.0329 - val_loss: 0.1883 - val_n_outputs0_loss: 0.1633 - val_n_outputs1_loss: 0.0250\n",
            "Epoch 5/100\n",
            "9/9 [==============================] - 0s 29ms/step - loss: 0.1903 - n_outputs0_loss: 0.1661 - n_outputs1_loss: 0.0243\n",
            "\n",
            "Epoch 00005: val_loss did not improve from 0.18611\n",
            "38/38 [==============================] - 4s 92ms/step - loss: 0.1942 - n_outputs0_loss: 0.1626 - n_outputs1_loss: 0.0316 - val_loss: 0.1903 - val_n_outputs0_loss: 0.1661 - val_n_outputs1_loss: 0.0243\n",
            "Epoch 6/100\n",
            "9/9 [==============================] - 0s 28ms/step - loss: 0.1852 - n_outputs0_loss: 0.1586 - n_outputs1_loss: 0.0265\n",
            "\n",
            "Epoch 00006: val_loss improved from 0.18611 to 0.18518, saving model to /content/mycar/models/mypilot.h5\n",
            "38/38 [==============================] - 4s 94ms/step - loss: 0.1939 - n_outputs0_loss: 0.1598 - n_outputs1_loss: 0.0342 - val_loss: 0.1852 - val_n_outputs0_loss: 0.1586 - val_n_outputs1_loss: 0.0265\n",
            "Epoch 7/100\n",
            "9/9 [==============================] - 0s 31ms/step - loss: 0.1795 - n_outputs0_loss: 0.1443 - n_outputs1_loss: 0.0353\n",
            "\n",
            "Epoch 00007: val_loss improved from 0.18518 to 0.17954, saving model to /content/mycar/models/mypilot.h5\n",
            "38/38 [==============================] - 4s 95ms/step - loss: 0.1886 - n_outputs0_loss: 0.1556 - n_outputs1_loss: 0.0329 - val_loss: 0.1795 - val_n_outputs0_loss: 0.1443 - val_n_outputs1_loss: 0.0353\n",
            "Epoch 8/100\n",
            "9/9 [==============================] - 0s 31ms/step - loss: 0.1536 - n_outputs0_loss: 0.1297 - n_outputs1_loss: 0.0239\n",
            "\n",
            "Epoch 00008: val_loss improved from 0.17954 to 0.15360, saving model to /content/mycar/models/mypilot.h5\n",
            "38/38 [==============================] - 4s 94ms/step - loss: 0.1763 - n_outputs0_loss: 0.1389 - n_outputs1_loss: 0.0374 - val_loss: 0.1536 - val_n_outputs0_loss: 0.1297 - val_n_outputs1_loss: 0.0239\n",
            "Epoch 9/100\n",
            "9/9 [==============================] - 0s 32ms/step - loss: 0.1609 - n_outputs0_loss: 0.1173 - n_outputs1_loss: 0.0437\n",
            "\n",
            "Epoch 00009: val_loss did not improve from 0.15360\n",
            "38/38 [==============================] - 4s 92ms/step - loss: 0.1610 - n_outputs0_loss: 0.1274 - n_outputs1_loss: 0.0335 - val_loss: 0.1609 - val_n_outputs0_loss: 0.1173 - val_n_outputs1_loss: 0.0437\n",
            "Epoch 10/100\n",
            "9/9 [==============================] - 0s 29ms/step - loss: 0.1301 - n_outputs0_loss: 0.1065 - n_outputs1_loss: 0.0236\n",
            "\n",
            "Epoch 00010: val_loss improved from 0.15360 to 0.13015, saving model to /content/mycar/models/mypilot.h5\n",
            "38/38 [==============================] - 4s 93ms/step - loss: 0.1482 - n_outputs0_loss: 0.1157 - n_outputs1_loss: 0.0325 - val_loss: 0.1301 - val_n_outputs0_loss: 0.1065 - val_n_outputs1_loss: 0.0236\n",
            "Epoch 11/100\n",
            "9/9 [==============================] - 0s 30ms/step - loss: 0.1404 - n_outputs0_loss: 0.1150 - n_outputs1_loss: 0.0253\n",
            "\n",
            "Epoch 00011: val_loss did not improve from 0.13015\n",
            "38/38 [==============================] - 3s 91ms/step - loss: 0.1416 - n_outputs0_loss: 0.1108 - n_outputs1_loss: 0.0308 - val_loss: 0.1404 - val_n_outputs0_loss: 0.1150 - val_n_outputs1_loss: 0.0253\n",
            "Epoch 12/100\n",
            "9/9 [==============================] - 0s 30ms/step - loss: 0.1166 - n_outputs0_loss: 0.0938 - n_outputs1_loss: 0.0228\n",
            "\n",
            "Epoch 00012: val_loss improved from 0.13015 to 0.11658, saving model to /content/mycar/models/mypilot.h5\n",
            "38/38 [==============================] - 4s 93ms/step - loss: 0.1378 - n_outputs0_loss: 0.1065 - n_outputs1_loss: 0.0313 - val_loss: 0.1166 - val_n_outputs0_loss: 0.0938 - val_n_outputs1_loss: 0.0228\n",
            "Epoch 13/100\n",
            "9/9 [==============================] - 0s 32ms/step - loss: 0.1209 - n_outputs0_loss: 0.0929 - n_outputs1_loss: 0.0280\n",
            "\n",
            "Epoch 00013: val_loss did not improve from 0.11658\n",
            "38/38 [==============================] - 3s 92ms/step - loss: 0.1342 - n_outputs0_loss: 0.1032 - n_outputs1_loss: 0.0310 - val_loss: 0.1209 - val_n_outputs0_loss: 0.0929 - val_n_outputs1_loss: 0.0280\n",
            "Epoch 14/100\n",
            "9/9 [==============================] - 0s 30ms/step - loss: 0.1163 - n_outputs0_loss: 0.0943 - n_outputs1_loss: 0.0220\n",
            "\n",
            "Epoch 00014: val_loss improved from 0.11658 to 0.11631, saving model to /content/mycar/models/mypilot.h5\n",
            "38/38 [==============================] - 4s 94ms/step - loss: 0.1289 - n_outputs0_loss: 0.1002 - n_outputs1_loss: 0.0287 - val_loss: 0.1163 - val_n_outputs0_loss: 0.0943 - val_n_outputs1_loss: 0.0220\n",
            "Epoch 15/100\n",
            "9/9 [==============================] - 0s 30ms/step - loss: 0.1233 - n_outputs0_loss: 0.0928 - n_outputs1_loss: 0.0306\n",
            "\n",
            "Epoch 00015: val_loss did not improve from 0.11631\n",
            "38/38 [==============================] - 4s 92ms/step - loss: 0.1275 - n_outputs0_loss: 0.0984 - n_outputs1_loss: 0.0292 - val_loss: 0.1233 - val_n_outputs0_loss: 0.0928 - val_n_outputs1_loss: 0.0306\n",
            "Epoch 16/100\n",
            "9/9 [==============================] - 0s 30ms/step - loss: 0.1124 - n_outputs0_loss: 0.0891 - n_outputs1_loss: 0.0233\n",
            "\n",
            "Epoch 00016: val_loss improved from 0.11631 to 0.11242, saving model to /content/mycar/models/mypilot.h5\n",
            "38/38 [==============================] - 4s 94ms/step - loss: 0.1255 - n_outputs0_loss: 0.0967 - n_outputs1_loss: 0.0288 - val_loss: 0.1124 - val_n_outputs0_loss: 0.0891 - val_n_outputs1_loss: 0.0233\n",
            "Epoch 17/100\n",
            "9/9 [==============================] - 0s 30ms/step - loss: 0.1080 - n_outputs0_loss: 0.0844 - n_outputs1_loss: 0.0235\n",
            "\n",
            "Epoch 00017: val_loss improved from 0.11242 to 0.10797, saving model to /content/mycar/models/mypilot.h5\n",
            "38/38 [==============================] - 4s 94ms/step - loss: 0.1212 - n_outputs0_loss: 0.0923 - n_outputs1_loss: 0.0289 - val_loss: 0.1080 - val_n_outputs0_loss: 0.0844 - val_n_outputs1_loss: 0.0235\n",
            "Epoch 18/100\n",
            "9/9 [==============================] - 0s 30ms/step - loss: 0.1289 - n_outputs0_loss: 0.1020 - n_outputs1_loss: 0.0269\n",
            "\n",
            "Epoch 00018: val_loss did not improve from 0.10797\n",
            "38/38 [==============================] - 3s 91ms/step - loss: 0.1198 - n_outputs0_loss: 0.0916 - n_outputs1_loss: 0.0282 - val_loss: 0.1289 - val_n_outputs0_loss: 0.1020 - val_n_outputs1_loss: 0.0269\n",
            "Epoch 19/100\n",
            "9/9 [==============================] - 0s 31ms/step - loss: 0.1128 - n_outputs0_loss: 0.0922 - n_outputs1_loss: 0.0206\n",
            "\n",
            "Epoch 00019: val_loss did not improve from 0.10797\n",
            "38/38 [==============================] - 4s 92ms/step - loss: 0.1180 - n_outputs0_loss: 0.0898 - n_outputs1_loss: 0.0282 - val_loss: 0.1128 - val_n_outputs0_loss: 0.0922 - val_n_outputs1_loss: 0.0206\n",
            "Epoch 20/100\n",
            "9/9 [==============================] - 0s 30ms/step - loss: 0.1043 - n_outputs0_loss: 0.0845 - n_outputs1_loss: 0.0198\n",
            "\n",
            "Epoch 00020: val_loss improved from 0.10797 to 0.10426, saving model to /content/mycar/models/mypilot.h5\n",
            "38/38 [==============================] - 4s 93ms/step - loss: 0.1150 - n_outputs0_loss: 0.0879 - n_outputs1_loss: 0.0270 - val_loss: 0.1043 - val_n_outputs0_loss: 0.0845 - val_n_outputs1_loss: 0.0198\n",
            "Epoch 21/100\n",
            "9/9 [==============================] - 0s 31ms/step - loss: 0.1053 - n_outputs0_loss: 0.0832 - n_outputs1_loss: 0.0221\n",
            "\n",
            "Epoch 00021: val_loss did not improve from 0.10426\n",
            "38/38 [==============================] - 3s 92ms/step - loss: 0.1099 - n_outputs0_loss: 0.0834 - n_outputs1_loss: 0.0266 - val_loss: 0.1053 - val_n_outputs0_loss: 0.0832 - val_n_outputs1_loss: 0.0221\n",
            "Epoch 22/100\n",
            "9/9 [==============================] - 0s 29ms/step - loss: 0.1004 - n_outputs0_loss: 0.0805 - n_outputs1_loss: 0.0198\n",
            "\n",
            "Epoch 00022: val_loss improved from 0.10426 to 0.10037, saving model to /content/mycar/models/mypilot.h5\n",
            "38/38 [==============================] - 4s 94ms/step - loss: 0.1083 - n_outputs0_loss: 0.0823 - n_outputs1_loss: 0.0259 - val_loss: 0.1004 - val_n_outputs0_loss: 0.0805 - val_n_outputs1_loss: 0.0198\n",
            "Epoch 23/100\n",
            "9/9 [==============================] - 0s 30ms/step - loss: 0.1024 - n_outputs0_loss: 0.0811 - n_outputs1_loss: 0.0213\n",
            "\n",
            "Epoch 00023: val_loss did not improve from 0.10037\n",
            "38/38 [==============================] - 4s 93ms/step - loss: 0.1083 - n_outputs0_loss: 0.0823 - n_outputs1_loss: 0.0260 - val_loss: 0.1024 - val_n_outputs0_loss: 0.0811 - val_n_outputs1_loss: 0.0213\n",
            "Epoch 24/100\n",
            "9/9 [==============================] - 0s 30ms/step - loss: 0.0983 - n_outputs0_loss: 0.0771 - n_outputs1_loss: 0.0212\n",
            "\n",
            "Epoch 00024: val_loss improved from 0.10037 to 0.09833, saving model to /content/mycar/models/mypilot.h5\n",
            "38/38 [==============================] - 4s 94ms/step - loss: 0.1035 - n_outputs0_loss: 0.0778 - n_outputs1_loss: 0.0256 - val_loss: 0.0983 - val_n_outputs0_loss: 0.0771 - val_n_outputs1_loss: 0.0212\n",
            "Epoch 25/100\n",
            "9/9 [==============================] - 0s 29ms/step - loss: 0.0943 - n_outputs0_loss: 0.0728 - n_outputs1_loss: 0.0215\n",
            "\n",
            "Epoch 00025: val_loss improved from 0.09833 to 0.09434, saving model to /content/mycar/models/mypilot.h5\n",
            "38/38 [==============================] - 4s 94ms/step - loss: 0.0987 - n_outputs0_loss: 0.0731 - n_outputs1_loss: 0.0255 - val_loss: 0.0943 - val_n_outputs0_loss: 0.0728 - val_n_outputs1_loss: 0.0215\n",
            "Epoch 26/100\n",
            "9/9 [==============================] - 0s 30ms/step - loss: 0.0985 - n_outputs0_loss: 0.0776 - n_outputs1_loss: 0.0209\n",
            "\n",
            "Epoch 00026: val_loss did not improve from 0.09434\n",
            "38/38 [==============================] - 3s 91ms/step - loss: 0.0975 - n_outputs0_loss: 0.0722 - n_outputs1_loss: 0.0253 - val_loss: 0.0985 - val_n_outputs0_loss: 0.0776 - val_n_outputs1_loss: 0.0209\n",
            "Epoch 27/100\n",
            "9/9 [==============================] - 0s 32ms/step - loss: 0.0959 - n_outputs0_loss: 0.0757 - n_outputs1_loss: 0.0202\n",
            "\n",
            "Epoch 00027: val_loss did not improve from 0.09434\n",
            "38/38 [==============================] - 4s 92ms/step - loss: 0.0951 - n_outputs0_loss: 0.0697 - n_outputs1_loss: 0.0253 - val_loss: 0.0959 - val_n_outputs0_loss: 0.0757 - val_n_outputs1_loss: 0.0202\n",
            "Epoch 28/100\n",
            "9/9 [==============================] - 0s 32ms/step - loss: 0.0865 - n_outputs0_loss: 0.0668 - n_outputs1_loss: 0.0197\n",
            "\n",
            "Epoch 00028: val_loss improved from 0.09434 to 0.08654, saving model to /content/mycar/models/mypilot.h5\n",
            "38/38 [==============================] - 4s 94ms/step - loss: 0.0889 - n_outputs0_loss: 0.0643 - n_outputs1_loss: 0.0246 - val_loss: 0.0865 - val_n_outputs0_loss: 0.0668 - val_n_outputs1_loss: 0.0197\n",
            "Epoch 29/100\n",
            "9/9 [==============================] - 0s 31ms/step - loss: 0.0908 - n_outputs0_loss: 0.0700 - n_outputs1_loss: 0.0207\n",
            "\n",
            "Epoch 00029: val_loss did not improve from 0.08654\n",
            "38/38 [==============================] - 3s 91ms/step - loss: 0.0844 - n_outputs0_loss: 0.0604 - n_outputs1_loss: 0.0240 - val_loss: 0.0908 - val_n_outputs0_loss: 0.0700 - val_n_outputs1_loss: 0.0207\n",
            "Epoch 30/100\n",
            "9/9 [==============================] - 0s 31ms/step - loss: 0.0845 - n_outputs0_loss: 0.0655 - n_outputs1_loss: 0.0190\n",
            "\n",
            "Epoch 00030: val_loss improved from 0.08654 to 0.08452, saving model to /content/mycar/models/mypilot.h5\n",
            "38/38 [==============================] - 4s 94ms/step - loss: 0.0844 - n_outputs0_loss: 0.0601 - n_outputs1_loss: 0.0243 - val_loss: 0.0845 - val_n_outputs0_loss: 0.0655 - val_n_outputs1_loss: 0.0190\n",
            "Epoch 31/100\n",
            "9/9 [==============================] - 0s 30ms/step - loss: 0.0867 - n_outputs0_loss: 0.0672 - n_outputs1_loss: 0.0195\n",
            "\n",
            "Epoch 00031: val_loss did not improve from 0.08452\n",
            "38/38 [==============================] - 3s 91ms/step - loss: 0.0800 - n_outputs0_loss: 0.0568 - n_outputs1_loss: 0.0232 - val_loss: 0.0867 - val_n_outputs0_loss: 0.0672 - val_n_outputs1_loss: 0.0195\n",
            "Epoch 32/100\n",
            "9/9 [==============================] - 0s 30ms/step - loss: 0.0842 - n_outputs0_loss: 0.0653 - n_outputs1_loss: 0.0189\n",
            "\n",
            "Epoch 00032: val_loss improved from 0.08452 to 0.08424, saving model to /content/mycar/models/mypilot.h5\n",
            "38/38 [==============================] - 4s 94ms/step - loss: 0.0779 - n_outputs0_loss: 0.0546 - n_outputs1_loss: 0.0233 - val_loss: 0.0842 - val_n_outputs0_loss: 0.0653 - val_n_outputs1_loss: 0.0189\n",
            "Epoch 33/100\n",
            "9/9 [==============================] - 0s 30ms/step - loss: 0.0922 - n_outputs0_loss: 0.0731 - n_outputs1_loss: 0.0192\n",
            "\n",
            "Epoch 00033: val_loss did not improve from 0.08424\n",
            "38/38 [==============================] - 3s 91ms/step - loss: 0.0776 - n_outputs0_loss: 0.0543 - n_outputs1_loss: 0.0233 - val_loss: 0.0922 - val_n_outputs0_loss: 0.0731 - val_n_outputs1_loss: 0.0192\n",
            "Epoch 34/100\n",
            "9/9 [==============================] - 0s 30ms/step - loss: 0.0794 - n_outputs0_loss: 0.0606 - n_outputs1_loss: 0.0188\n",
            "\n",
            "Epoch 00034: val_loss improved from 0.08424 to 0.07942, saving model to /content/mycar/models/mypilot.h5\n",
            "38/38 [==============================] - 4s 94ms/step - loss: 0.0768 - n_outputs0_loss: 0.0539 - n_outputs1_loss: 0.0229 - val_loss: 0.0794 - val_n_outputs0_loss: 0.0606 - val_n_outputs1_loss: 0.0188\n",
            "Epoch 35/100\n",
            "9/9 [==============================] - 0s 30ms/step - loss: 0.0804 - n_outputs0_loss: 0.0609 - n_outputs1_loss: 0.0194\n",
            "\n",
            "Epoch 00035: val_loss did not improve from 0.07942\n",
            "38/38 [==============================] - 3s 91ms/step - loss: 0.0706 - n_outputs0_loss: 0.0480 - n_outputs1_loss: 0.0226 - val_loss: 0.0804 - val_n_outputs0_loss: 0.0609 - val_n_outputs1_loss: 0.0194\n",
            "Epoch 36/100\n",
            "9/9 [==============================] - 0s 32ms/step - loss: 0.0855 - n_outputs0_loss: 0.0681 - n_outputs1_loss: 0.0174\n",
            "\n",
            "Epoch 00036: val_loss did not improve from 0.07942\n",
            "38/38 [==============================] - 3s 92ms/step - loss: 0.0687 - n_outputs0_loss: 0.0466 - n_outputs1_loss: 0.0221 - val_loss: 0.0855 - val_n_outputs0_loss: 0.0681 - val_n_outputs1_loss: 0.0174\n",
            "Epoch 37/100\n",
            "9/9 [==============================] - 0s 31ms/step - loss: 0.0825 - n_outputs0_loss: 0.0627 - n_outputs1_loss: 0.0198\n",
            "\n",
            "Epoch 00037: val_loss did not improve from 0.07942\n",
            "38/38 [==============================] - 3s 91ms/step - loss: 0.0669 - n_outputs0_loss: 0.0446 - n_outputs1_loss: 0.0223 - val_loss: 0.0825 - val_n_outputs0_loss: 0.0627 - val_n_outputs1_loss: 0.0198\n",
            "Epoch 38/100\n",
            "9/9 [==============================] - 0s 30ms/step - loss: 0.0778 - n_outputs0_loss: 0.0603 - n_outputs1_loss: 0.0176\n",
            "\n",
            "Epoch 00038: val_loss improved from 0.07942 to 0.07785, saving model to /content/mycar/models/mypilot.h5\n",
            "38/38 [==============================] - 4s 94ms/step - loss: 0.0649 - n_outputs0_loss: 0.0434 - n_outputs1_loss: 0.0215 - val_loss: 0.0778 - val_n_outputs0_loss: 0.0603 - val_n_outputs1_loss: 0.0176\n",
            "Epoch 39/100\n",
            "9/9 [==============================] - 0s 30ms/step - loss: 0.0841 - n_outputs0_loss: 0.0652 - n_outputs1_loss: 0.0189\n",
            "\n",
            "Epoch 00039: val_loss did not improve from 0.07785\n",
            "38/38 [==============================] - 3s 92ms/step - loss: 0.0641 - n_outputs0_loss: 0.0425 - n_outputs1_loss: 0.0215 - val_loss: 0.0841 - val_n_outputs0_loss: 0.0652 - val_n_outputs1_loss: 0.0189\n",
            "Epoch 40/100\n",
            "9/9 [==============================] - 0s 32ms/step - loss: 0.0753 - n_outputs0_loss: 0.0575 - n_outputs1_loss: 0.0178\n",
            "\n",
            "Epoch 00040: val_loss improved from 0.07785 to 0.07528, saving model to /content/mycar/models/mypilot.h5\n",
            "38/38 [==============================] - 4s 94ms/step - loss: 0.0608 - n_outputs0_loss: 0.0394 - n_outputs1_loss: 0.0214 - val_loss: 0.0753 - val_n_outputs0_loss: 0.0575 - val_n_outputs1_loss: 0.0178\n",
            "Epoch 41/100\n",
            "9/9 [==============================] - 0s 29ms/step - loss: 0.0761 - n_outputs0_loss: 0.0578 - n_outputs1_loss: 0.0183\n",
            "\n",
            "Epoch 00041: val_loss did not improve from 0.07528\n",
            "38/38 [==============================] - 3s 91ms/step - loss: 0.0583 - n_outputs0_loss: 0.0376 - n_outputs1_loss: 0.0207 - val_loss: 0.0761 - val_n_outputs0_loss: 0.0578 - val_n_outputs1_loss: 0.0183\n",
            "Epoch 42/100\n",
            "9/9 [==============================] - 0s 30ms/step - loss: 0.0740 - n_outputs0_loss: 0.0574 - n_outputs1_loss: 0.0166\n",
            "\n",
            "Epoch 00042: val_loss improved from 0.07528 to 0.07399, saving model to /content/mycar/models/mypilot.h5\n",
            "38/38 [==============================] - 4s 95ms/step - loss: 0.0545 - n_outputs0_loss: 0.0342 - n_outputs1_loss: 0.0203 - val_loss: 0.0740 - val_n_outputs0_loss: 0.0574 - val_n_outputs1_loss: 0.0166\n",
            "Epoch 43/100\n",
            "9/9 [==============================] - 0s 29ms/step - loss: 0.0779 - n_outputs0_loss: 0.0605 - n_outputs1_loss: 0.0174\n",
            "\n",
            "Epoch 00043: val_loss did not improve from 0.07399\n",
            "38/38 [==============================] - 4s 92ms/step - loss: 0.0548 - n_outputs0_loss: 0.0348 - n_outputs1_loss: 0.0200 - val_loss: 0.0779 - val_n_outputs0_loss: 0.0605 - val_n_outputs1_loss: 0.0174\n",
            "Epoch 44/100\n",
            "9/9 [==============================] - 0s 30ms/step - loss: 0.0835 - n_outputs0_loss: 0.0648 - n_outputs1_loss: 0.0187\n",
            "\n",
            "Epoch 00044: val_loss did not improve from 0.07399\n",
            "38/38 [==============================] - 3s 91ms/step - loss: 0.0537 - n_outputs0_loss: 0.0340 - n_outputs1_loss: 0.0197 - val_loss: 0.0835 - val_n_outputs0_loss: 0.0648 - val_n_outputs1_loss: 0.0187\n",
            "Epoch 45/100\n",
            "9/9 [==============================] - 0s 32ms/step - loss: 0.0807 - n_outputs0_loss: 0.0640 - n_outputs1_loss: 0.0167\n",
            "\n",
            "Epoch 00045: val_loss did not improve from 0.07399\n",
            "38/38 [==============================] - 4s 93ms/step - loss: 0.0519 - n_outputs0_loss: 0.0317 - n_outputs1_loss: 0.0202 - val_loss: 0.0807 - val_n_outputs0_loss: 0.0640 - val_n_outputs1_loss: 0.0167\n",
            "Epoch 46/100\n",
            "9/9 [==============================] - 0s 31ms/step - loss: 0.0774 - n_outputs0_loss: 0.0601 - n_outputs1_loss: 0.0173\n",
            "\n",
            "Epoch 00046: val_loss did not improve from 0.07399\n",
            "38/38 [==============================] - 3s 92ms/step - loss: 0.0498 - n_outputs0_loss: 0.0296 - n_outputs1_loss: 0.0202 - val_loss: 0.0774 - val_n_outputs0_loss: 0.0601 - val_n_outputs1_loss: 0.0173\n",
            "Epoch 47/100\n",
            "9/9 [==============================] - 0s 31ms/step - loss: 0.0731 - n_outputs0_loss: 0.0568 - n_outputs1_loss: 0.0163\n",
            "\n",
            "Epoch 00047: val_loss improved from 0.07399 to 0.07308, saving model to /content/mycar/models/mypilot.h5\n",
            "38/38 [==============================] - 4s 94ms/step - loss: 0.0487 - n_outputs0_loss: 0.0293 - n_outputs1_loss: 0.0194 - val_loss: 0.0731 - val_n_outputs0_loss: 0.0568 - val_n_outputs1_loss: 0.0163\n",
            "Epoch 48/100\n",
            "9/9 [==============================] - 0s 30ms/step - loss: 0.0746 - n_outputs0_loss: 0.0585 - n_outputs1_loss: 0.0160\n",
            "\n",
            "Epoch 00048: val_loss did not improve from 0.07308\n",
            "38/38 [==============================] - 3s 91ms/step - loss: 0.0473 - n_outputs0_loss: 0.0285 - n_outputs1_loss: 0.0187 - val_loss: 0.0746 - val_n_outputs0_loss: 0.0585 - val_n_outputs1_loss: 0.0160\n",
            "Epoch 49/100\n",
            "9/9 [==============================] - 0s 30ms/step - loss: 0.0805 - n_outputs0_loss: 0.0641 - n_outputs1_loss: 0.0163\n",
            "\n",
            "Epoch 00049: val_loss did not improve from 0.07308\n",
            "38/38 [==============================] - 3s 92ms/step - loss: 0.0475 - n_outputs0_loss: 0.0290 - n_outputs1_loss: 0.0185 - val_loss: 0.0805 - val_n_outputs0_loss: 0.0641 - val_n_outputs1_loss: 0.0163\n",
            "Epoch 50/100\n",
            "9/9 [==============================] - 0s 32ms/step - loss: 0.0694 - n_outputs0_loss: 0.0536 - n_outputs1_loss: 0.0158\n",
            "\n",
            "Epoch 00050: val_loss improved from 0.07308 to 0.06936, saving model to /content/mycar/models/mypilot.h5\n",
            "38/38 [==============================] - 4s 94ms/step - loss: 0.0482 - n_outputs0_loss: 0.0306 - n_outputs1_loss: 0.0176 - val_loss: 0.0694 - val_n_outputs0_loss: 0.0536 - val_n_outputs1_loss: 0.0158\n",
            "Epoch 51/100\n",
            "9/9 [==============================] - 0s 29ms/step - loss: 0.0802 - n_outputs0_loss: 0.0632 - n_outputs1_loss: 0.0170\n",
            "\n",
            "Epoch 00051: val_loss did not improve from 0.06936\n",
            "38/38 [==============================] - 3s 91ms/step - loss: 0.0448 - n_outputs0_loss: 0.0270 - n_outputs1_loss: 0.0179 - val_loss: 0.0802 - val_n_outputs0_loss: 0.0632 - val_n_outputs1_loss: 0.0170\n",
            "Epoch 52/100\n",
            "9/9 [==============================] - 0s 31ms/step - loss: 0.0737 - n_outputs0_loss: 0.0578 - n_outputs1_loss: 0.0159\n",
            "\n",
            "Epoch 00052: val_loss did not improve from 0.06936\n",
            "38/38 [==============================] - 3s 92ms/step - loss: 0.0426 - n_outputs0_loss: 0.0250 - n_outputs1_loss: 0.0176 - val_loss: 0.0737 - val_n_outputs0_loss: 0.0578 - val_n_outputs1_loss: 0.0159\n",
            "Epoch 53/100\n",
            "9/9 [==============================] - 0s 30ms/step - loss: 0.0789 - n_outputs0_loss: 0.0628 - n_outputs1_loss: 0.0161\n",
            "\n",
            "Epoch 00053: val_loss did not improve from 0.06936\n",
            "38/38 [==============================] - 3s 92ms/step - loss: 0.0452 - n_outputs0_loss: 0.0277 - n_outputs1_loss: 0.0175 - val_loss: 0.0789 - val_n_outputs0_loss: 0.0628 - val_n_outputs1_loss: 0.0161\n",
            "Epoch 54/100\n",
            "9/9 [==============================] - 0s 31ms/step - loss: 0.0702 - n_outputs0_loss: 0.0553 - n_outputs1_loss: 0.0149\n",
            "\n",
            "Epoch 00054: val_loss did not improve from 0.06936\n",
            "38/38 [==============================] - 3s 92ms/step - loss: 0.0427 - n_outputs0_loss: 0.0260 - n_outputs1_loss: 0.0167 - val_loss: 0.0702 - val_n_outputs0_loss: 0.0553 - val_n_outputs1_loss: 0.0149\n",
            "Epoch 55/100\n",
            "9/9 [==============================] - 0s 30ms/step - loss: 0.0737 - n_outputs0_loss: 0.0571 - n_outputs1_loss: 0.0165\n",
            "\n",
            "Epoch 00055: val_loss did not improve from 0.06936\n",
            "38/38 [==============================] - 3s 92ms/step - loss: 0.0413 - n_outputs0_loss: 0.0244 - n_outputs1_loss: 0.0169 - val_loss: 0.0737 - val_n_outputs0_loss: 0.0571 - val_n_outputs1_loss: 0.0165\n",
            "Epoch 00055: early stopping\n",
            "Training completed in 0:03:22.\n",
            "\n",
            "\n",
            "----------- Best Eval Loss :0.069365 ---------\n",
            "<Figure size 640x480 with 1 Axes>\n"
          ],
          "name": "stdout"
        }
      ]
    },
    {
      "cell_type": "markdown",
      "metadata": {
        "id": "rXzn1noJz5MQ",
        "colab_type": "text"
      },
      "source": [
        "Check if the model is generated\n",
        "\n"
      ]
    },
    {
      "cell_type": "code",
      "metadata": {
        "id": "5b9vJV4EzlO8",
        "colab_type": "code",
        "colab": {}
      },
      "source": [
        "!ls -alh /content/mycar/models"
      ],
      "execution_count": 0,
      "outputs": []
    },
    {
      "cell_type": "code",
      "metadata": {
        "id": "AixQrFy_z3vv",
        "colab_type": "code",
        "colab": {}
      },
      "source": [
        "# from IPython.display import Image\n",
        "# Image('models/mypilot.h5_loss_acc_0.086745.png')"
      ],
      "execution_count": 0,
      "outputs": []
    },
    {
      "cell_type": "markdown",
      "metadata": {
        "colab_type": "text",
        "id": "6BEOJYH601O0"
      },
      "source": [
        "## Copy the trained model back to Donkey Car (Pi)\n",
        "\n",
        "Once the training is complete on colab, download the model file under /content/mycar/models/ folder location."
      ]
    },
    {
      "cell_type": "code",
      "metadata": {
        "id": "YtvyJpOdocjb",
        "colab_type": "code",
        "outputId": "685583c9-e259-4f7a-904f-a306eb3a455c",
        "colab": {
          "base_uri": "https://localhost:8080/",
          "height": 119
        }
      },
      "source": [
        "from google.colab import files\n",
        "\n",
        "%cd /content/mycar/models\n",
        "!ls -ahl\n",
        "files.download('mypilot.h5')"
      ],
      "execution_count": 13,
      "outputs": [
        {
          "output_type": "stream",
          "text": [
            "/content/mycar/models\n",
            "total 3.2M\n",
            "drwxr-xr-x 2 root root 4.0K Oct 11 10:16 .\n",
            "drwxr-xr-x 6 root root 4.0K Oct 11 10:12 ..\n",
            "-rw-r--r-- 1 root root 3.2M Oct 11 10:16 mypilot.h5\n",
            "-rw-r--r-- 1 root root  29K Oct 11 10:16 mypilot.h5_loss_acc_0.069365.png\n"
          ],
          "name": "stdout"
        }
      ]
    },
    {
      "cell_type": "markdown",
      "metadata": {
        "id": "i7AIY6yBOCM-",
        "colab_type": "text"
      },
      "source": [
        "Alternatively, you can copy the model back to Google Drive too"
      ]
    },
    {
      "cell_type": "code",
      "metadata": {
        "id": "7Dim4fCpOBo9",
        "colab_type": "code",
        "colab": {}
      },
      "source": [
        "!cp /content/mycar/models/mypilot.h5 /content/drive/My\\ Drive/mycar/models/mypilot.h5"
      ],
      "execution_count": 0,
      "outputs": []
    },
    {
      "cell_type": "markdown",
      "metadata": {
        "id": "GpkOVzh86omO",
        "colab_type": "text"
      },
      "source": [
        "### Copy the file from your PC or Mac to the Raspberry Pi using Filezilla or scp command.\n",
        "\n",
        "```\n",
        "sftp pi@raspberry.local\n",
        "cd mycar/models\n",
        "put mypilot.h5\n",
        "```"
      ]
    },
    {
      "cell_type": "markdown",
      "metadata": {
        "colab_type": "text",
        "id": "hfERkGy821Xy"
      },
      "source": [
        "## Start Autopilot on Pi\n",
        "\n",
        "\n",
        "```bash\n",
        "cd ~/mycar\n",
        "python manage.py drive --model models/mypilot.h5 --js\n",
        "```\n"
      ]
    },
    {
      "cell_type": "markdown",
      "metadata": {
        "id": "X93SodzAv9hV",
        "colab_type": "text"
      },
      "source": [
        "## Bonus - Salient Object Visualization"
      ]
    },
    {
      "cell_type": "code",
      "metadata": {
        "id": "4AZvWSeiyqto",
        "colab_type": "code",
        "colab": {}
      },
      "source": [
        "# !pip install git+https://github.com/autorope/keras-vis.git\n",
        "!pip uninstall keras-vis\n",
        "!pip install git+https://github.com/sctse999/keras-vis\n",
        "  \n",
        "  "
      ],
      "execution_count": 0,
      "outputs": []
    },
    {
      "cell_type": "code",
      "metadata": {
        "id": "kKI37gVrv9Q8",
        "colab_type": "code",
        "colab": {}
      },
      "source": [
        "%cd /content/mycar\n",
        "!donkey makemovie --tub data/{tub_name} --model models/mypilot.h5 --type linear --salient"
      ],
      "execution_count": 0,
      "outputs": []
    }
  ]
}