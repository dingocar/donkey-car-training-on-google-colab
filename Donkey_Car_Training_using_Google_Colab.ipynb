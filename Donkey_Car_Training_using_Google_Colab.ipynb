{
  "nbformat": 4,
  "nbformat_minor": 0,
  "metadata": {
    "accelerator": "GPU",
    "colab": {
      "name": "Donkey Car Training using Google Colab",
      "version": "0.3.2",
      "provenance": [],
      "collapsed_sections": [],
      "toc_visible": true
    },
    "kernelspec": {
      "display_name": "Python 3",
      "language": "python",
      "name": "python3"
    },
    "language_info": {
      "codemirror_mode": {
        "name": "ipython",
        "version": 3
      },
      "file_extension": ".py",
      "mimetype": "text/x-python",
      "name": "python",
      "nbconvert_exporter": "python",
      "pygments_lexer": "ipython3",
      "version": "3.7.3"
    }
  },
  "cells": [
    {
      "cell_type": "markdown",
      "metadata": {
        "colab_type": "text",
        "id": "BlmQIFSLZDdc"
      },
      "source": [
        "# Donkey Car Training using Google Colab\n",
        "\n",
        "Train your donkey car model using accelerated GPU for FREE on Google Colab"
      ]
    },
    {
      "cell_type": "markdown",
      "metadata": {
        "colab_type": "text",
        "id": "liQZb4cDmZgy"
      },
      "source": [
        "## Install TensorFlow 1.13.1 GPU versions\n"
      ]
    },
    {
      "cell_type": "code",
      "metadata": {
        "colab_type": "code",
        "id": "QSX76iKYmd_V",
        "colab": {}
      },
      "source": [
        "!pip install tensorflow-gpu==1.13.1"
      ],
      "execution_count": 0,
      "outputs": []
    },
    {
      "cell_type": "markdown",
      "metadata": {
        "colab_type": "text",
        "id": "arsH-DhLcihq"
      },
      "source": [
        "## Check GPU allocation\n",
        "If \"Found GPU at: / device: GPU: 0\" is displayed, the GPU is ready to use."
      ]
    },
    {
      "cell_type": "code",
      "metadata": {
        "colab_type": "code",
        "id": "uQgEhuoTcg0N",
        "colab": {}
      },
      "source": [
        "import tensorflow as tf\n",
        "device_name = tf.test.gpu_device_name()\n",
        "if device_name != '/device:GPU:0':\n",
        "  raise SystemError('GPU device not found')\n",
        "print('Found GPU at: {}'.format(device_name))"
      ],
      "execution_count": 0,
      "outputs": []
    },
    {
      "cell_type": "markdown",
      "metadata": {
        "colab_type": "text",
        "id": "Ba2oPDIrsDFg"
      },
      "source": [
        "## Git Clone the donkey repository"
      ]
    },
    {
      "cell_type": "code",
      "metadata": {
        "colab_type": "code",
        "id": "oOxd9PFUyNxI",
        "colab": {}
      },
      "source": [
        "!git clone https://github.com/autorope/donkeycar.git donkey"
      ],
      "execution_count": 0,
      "outputs": []
    },
    {
      "cell_type": "markdown",
      "metadata": {
        "colab_type": "text",
        "id": "9TkkcF-gsAnx"
      },
      "source": [
        "## Install donkey car"
      ]
    },
    {
      "cell_type": "code",
      "metadata": {
        "colab_type": "code",
        "id": "jz_PZgrByPDh",
        "colab": {}
      },
      "source": [
        "!pip3 install -e donkey"
      ],
      "execution_count": 0,
      "outputs": []
    },
    {
      "cell_type": "markdown",
      "metadata": {
        "colab_type": "text",
        "id": "syCctLq2r4Wk"
      },
      "source": [
        "## Create Project"
      ]
    },
    {
      "cell_type": "code",
      "metadata": {
        "colab_type": "code",
        "id": "1xjJBSITyXy2",
        "colab": {}
      },
      "source": [
        "!donkey createcar --path /content/mycar"
      ],
      "execution_count": 0,
      "outputs": []
    },
    {
      "cell_type": "markdown",
      "metadata": {
        "id": "SCf6uTHnO4Lh",
        "colab_type": "text"
      },
      "source": [
        "## Prepare Data\n",
        "### Copy the following code and run on pi\n",
        "\n",
        "\n",
        "```bash\n",
        "cd ~/mycar\n",
        "tar -czf data.tar.gz data\n",
        "\n",
        "```\n",
        "\n",
        "This will create a data.tar.gz file under ~/mycar/data"
      ]
    },
    {
      "cell_type": "markdown",
      "metadata": {
        "colab_type": "text",
        "id": "dnUy1Z1zro77"
      },
      "source": [
        "## Upload Data\n",
        "\n",
        "### Option 1 - Upload directly to colab\n",
        "\n",
        "Upload directly to colab could be quite slow. See other options below for faster upload methods.\n",
        "\n",
        "#### Copy the data.tar.gz to your local pc\n",
        "\n",
        "Run this on your local pc if you are using linux/mac\n",
        "```\n",
        "sftp pi@raspberry.local\n",
        "cd ~/mycar/data\n",
        "get data.tar.gz\n",
        "```\n",
        "\n",
        "If you are on a windows, download sftp utility like [filezilla](https://filezilla-project.org/) or [putty](https://www.chiark.greenend.org.uk/~sgtatham/putty/latest.html)"
      ]
    },
    {
      "cell_type": "markdown",
      "metadata": {
        "id": "4BEIXt8HO4Ll",
        "colab_type": "text"
      },
      "source": [
        "#### Upload to Colab"
      ]
    },
    {
      "cell_type": "code",
      "metadata": {
        "colab_type": "code",
        "id": "nqB_I9dsxBoA",
        "colab": {}
      },
      "source": [
        "import os\n",
        "from google.colab import files\n",
        "\n",
        "if(os.path.exists(\"/content/data.tar.gz\")):\n",
        "   os.remove(\"/content/data.tar.gz\")\n",
        "   !rm -rf /content/mycar/data\n",
        "\n",
        "uploaded = files.upload()\n",
        "\n",
        "WORK_FOLDER = \"/content/mycar/data/\"\n",
        "if(os.path.exists(WORK_FOLDER) == False):\n",
        "  os.makedirs(WORK_FOLDER)\n",
        "\n",
        "!mv /content/data.tar.gz /content/mycar\n",
        "%cd /content/mycar/data/\n",
        "!tar -xzf data.tar.gz"
      ],
      "execution_count": 0,
      "outputs": []
    },
    {
      "cell_type": "markdown",
      "metadata": {
        "id": "W47gmXA0O4Lo",
        "colab_type": "text"
      },
      "source": [
        "### Option 2 - Upload to Google Drive\n",
        "\n",
        "Alternatively, you could first upload the data.tar.gz to Google Drive. We will then mount Google Drive from colab and copy the data from Drive directly. When you run the cell below, you will need to click the link and generate an authorization code to for colab to access your drive."
      ]
    },
    {
      "cell_type": "code",
      "metadata": {
        "id": "Bgp_wtENw_4n",
        "colab_type": "code",
        "colab": {}
      },
      "source": [
        "from google.colab import drive\n",
        "drive.mount('/content/drive')"
      ],
      "execution_count": 0,
      "outputs": []
    },
    {
      "cell_type": "markdown",
      "metadata": {
        "id": "IfSDpXj9x16v",
        "colab_type": "text"
      },
      "source": [
        "Suppose you upload the data.tar.gz to Google Drive/mycar/data.tar.gz, this is how you copy it from Google Drive to colab"
      ]
    },
    {
      "cell_type": "code",
      "metadata": {
        "id": "BIzWTrV-xwkJ",
        "colab_type": "code",
        "colab": {}
      },
      "source": [
        "%cd /content/mycar\n",
        "!cp /content/drive/My\\ Drive/mycar/data.tar.gz ."
      ],
      "execution_count": 0,
      "outputs": []
    },
    {
      "cell_type": "markdown",
      "metadata": {
        "id": "QtwcEli6yFrw",
        "colab_type": "text"
      },
      "source": [
        "And untar it to the right place"
      ]
    },
    {
      "cell_type": "code",
      "metadata": {
        "id": "urhFWBkUyGf0",
        "colab_type": "code",
        "colab": {}
      },
      "source": [
        "!tar -xzf data.tar.gz"
      ],
      "execution_count": 0,
      "outputs": []
    },
    {
      "cell_type": "markdown",
      "metadata": {
        "id": "eyPsgV5KyFkg",
        "colab_type": "text"
      },
      "source": [
        "Check whether the data is there"
      ]
    },
    {
      "cell_type": "code",
      "metadata": {
        "id": "KsItvBTkzWcH",
        "colab_type": "code",
        "colab": {}
      },
      "source": [
        "!ls data"
      ],
      "execution_count": 0,
      "outputs": []
    },
    {
      "cell_type": "markdown",
      "metadata": {
        "colab_type": "text",
        "id": "T3Ya8qEUAfOv"
      },
      "source": [
        "## Train your model"
      ]
    },
    {
      "cell_type": "code",
      "metadata": {
        "colab_type": "code",
        "id": "edH3xO_AVWXu",
        "colab": {}
      },
      "source": [
        "!python /content/mycar/manage.py train --type linear --model /content/mycar/models/mypilot.h5"
      ],
      "execution_count": 0,
      "outputs": []
    },
    {
      "cell_type": "markdown",
      "metadata": {
        "id": "rXzn1noJz5MQ",
        "colab_type": "text"
      },
      "source": [
        "Check if the model is generated\n",
        "\n"
      ]
    },
    {
      "cell_type": "code",
      "metadata": {
        "id": "5b9vJV4EzlO8",
        "colab_type": "code",
        "colab": {}
      },
      "source": [
        "!ls models"
      ],
      "execution_count": 0,
      "outputs": []
    },
    {
      "cell_type": "code",
      "metadata": {
        "id": "AixQrFy_z3vv",
        "colab_type": "code",
        "colab": {}
      },
      "source": [
        "from IPython.display import Image\n",
        "Image('models/mypilot.h5_loss_acc_0.086745.png')"
      ],
      "execution_count": 0,
      "outputs": []
    },
    {
      "cell_type": "markdown",
      "metadata": {
        "colab_type": "text",
        "id": "6BEOJYH601O0"
      },
      "source": [
        "## Copy trained model back to Donkey Car (Pi)\n",
        "\n",
        "1. Once the training is complete on colab, download the model file under /content/mycar/models/ folder location.  You can use the file tab on the left hand side to find the model and right click to download it.\n",
        "\n",
        "![alt text](https://raw.githubusercontent.com/robocarstore/donkey-car-training-on-google-colab/master/images/screen_colab_download_model.png)\n",
        "\n",
        "2. Copy the file from your PC or Mac to the Raspberry Pi using Filezilla or scp command."
      ]
    },
    {
      "cell_type": "code",
      "metadata": {
        "id": "YtvyJpOdocjb",
        "colab_type": "code",
        "colab": {}
      },
      "source": [
        "from google.colab import files\n",
        "\n",
        "%cd /content/mycar/models\n",
        "!ls -ahl\n",
        "files.download('mypilot.h5')"
      ],
      "execution_count": 0,
      "outputs": []
    },
    {
      "cell_type": "markdown",
      "metadata": {
        "id": "i7AIY6yBOCM-",
        "colab_type": "text"
      },
      "source": [
        "Alternatively, you can copy the model back to Google Drive too"
      ]
    },
    {
      "cell_type": "code",
      "metadata": {
        "id": "7Dim4fCpOBo9",
        "colab_type": "code",
        "colab": {}
      },
      "source": [
        "!cp /content/mycar/models/mypilot.h5 /content/drive/My\\ Drive/mycar/models"
      ],
      "execution_count": 0,
      "outputs": []
    },
    {
      "cell_type": "markdown",
      "metadata": {
        "colab_type": "text",
        "id": "hfERkGy821Xy"
      },
      "source": [
        "## Start Autopilot on Pi\n",
        "\n",
        "\n",
        "```bash\n",
        "cd ~/mycar\n",
        "python manage.py drive --model models/mypilot.h5 --js\n",
        "```\n"
      ]
    }
  ]
}